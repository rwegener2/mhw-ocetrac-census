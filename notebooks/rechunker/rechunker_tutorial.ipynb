{
 "cells": [
  {
   "cell_type": "markdown",
   "metadata": {},
   "source": [
    "This notebook is a typed out version of the code from [the Rechunker tutorial](https://rechunker.readthedocs.io/en/latest/tutorial.html#Toy-Example)."
   ]
  },
  {
   "cell_type": "code",
   "execution_count": 14,
   "metadata": {},
   "outputs": [],
   "source": [
    "import xarray as xr\n",
    "import zarr\n",
    "from rechunker import rechunk"
   ]
  },
  {
   "cell_type": "markdown",
   "metadata": {},
   "source": [
    "### Creating some chunked data (so we can rechunk it)"
   ]
  },
  {
   "cell_type": "code",
   "execution_count": 2,
   "metadata": {},
   "outputs": [],
   "source": [
    "ds = xr.tutorial.open_dataset(\"air_temperature\")\n",
    "ds = ds.chunk({'time': 100})\n",
    "\n",
    "ds.chunks"
   ]
  },
  {
   "cell_type": "code",
   "execution_count": null,
   "metadata": {},
   "outputs": [],
   "source": [
    "ds.to_zarr('air_temperature.zarr')"
   ]
  },
  {
   "cell_type": "markdown",
   "metadata": {},
   "source": [
    "### Opening up the new data as `source`"
   ]
  },
  {
   "cell_type": "code",
   "execution_count": 20,
   "metadata": {},
   "outputs": [
    {
     "name": "stdout",
     "output_type": "stream",
     "text": [
      "/\n",
      " ├── air (2920, 25, 53) int16\n",
      " ├── lat (25,) float32\n",
      " ├── lon (53,) float32\n",
      " └── time (2920,) float32\n"
     ]
    }
   ],
   "source": [
    "source_group = zarr.open('air_temperature.zarr')\n",
    "print(source_group.tree())"
   ]
  },
  {
   "cell_type": "code",
   "execution_count": 8,
   "metadata": {},
   "outputs": [],
   "source": [
    "source_array = source_group['air']"
   ]
  },
  {
   "cell_type": "markdown",
   "metadata": {},
   "source": [
    "### Rechunk some datas! (data array version)"
   ]
  },
  {
   "cell_type": "code",
   "execution_count": null,
   "metadata": {},
   "outputs": [],
   "source": [
    "from rechunker import rechunk"
   ]
  },
  {
   "cell_type": "code",
   "execution_count": null,
   "metadata": {},
   "outputs": [],
   "source": [
    "target_chunks = (2920, 25, 1)\n",
    "max_mem = '1MB'\n",
    "\n",
    "target_store = 'air_rechunked.zarr'\n",
    "temp_store = 'air_rechunked-tmp.zarr'"
   ]
  },
  {
   "cell_type": "code",
   "execution_count": null,
   "metadata": {},
   "outputs": [],
   "source": [
    "array_plan = rechunk(source_array, target_chunks, max_mem, target_store, temp_store=temp_store)\n",
    "array_plan"
   ]
  },
  {
   "cell_type": "code",
   "execution_count": null,
   "metadata": {},
   "outputs": [],
   "source": [
    "result = array_plan.execute()"
   ]
  },
  {
   "cell_type": "markdown",
   "metadata": {},
   "source": [
    "### Opening up the new data"
   ]
  },
  {
   "cell_type": "code",
   "execution_count": null,
   "metadata": {},
   "outputs": [],
   "source": [
    "# Using zarr\n",
    "zarr.open(target_store)"
   ]
  },
  {
   "cell_type": "code",
   "execution_count": null,
   "metadata": {},
   "outputs": [],
   "source": [
    "# Using dask\n",
    "import dask.array as da\n",
    "\n",
    "da.from_zarr(target_store)"
   ]
  },
  {
   "cell_type": "markdown",
   "metadata": {},
   "source": [
    "### Rechunk some datas! (group version)\n",
    "\n",
    "the last one was an array, so we were able to open it in dask, but not in xarray because it didn't have coordinates."
   ]
  },
  {
   "cell_type": "code",
   "execution_count": 10,
   "metadata": {},
   "outputs": [],
   "source": [
    "source_group = zarr.open('air_temperature.zarr')"
   ]
  },
  {
   "cell_type": "markdown",
   "metadata": {},
   "source": [
    "_Whenever I've used groups I have to use this longer version of the `target_chunks`. For some reason the shortened version shown in the tutorial doesn't work for me._"
   ]
  },
  {
   "cell_type": "code",
   "execution_count": 11,
   "metadata": {},
   "outputs": [],
   "source": [
    "target_chunks = {\n",
    "    'air': {'time': 2920, 'lat': 25, 'lon': 1},\n",
    "    'time': None,\n",
    "    'lon': None,\n",
    "    'lat': None,\n",
    "}\n",
    "max_mem = '1MB'\n",
    "\n",
    "target_store = 'group_rechunked.zarr'\n",
    "temp_store = 'group_rechunked-tmp.zarr'"
   ]
  },
  {
   "cell_type": "code",
   "execution_count": 17,
   "metadata": {},
   "outputs": [],
   "source": [
    "array_plan = rechunk(\n",
    "    source_group, target_chunks, max_mem, target_store,\n",
    "    temp_store = temp_store,\n",
    "    )"
   ]
  },
  {
   "cell_type": "code",
   "execution_count": 18,
   "metadata": {},
   "outputs": [
    {
     "name": "stdout",
     "output_type": "stream",
     "text": [
      "_copy_chunk((slice(0, 300, None), slice(0, 25, None), slice(0, 53, None)))\n",
      "_copy_chunk((slice(300, 600, None), slice(0, 25, None), slice(0, 53, None)))\n",
      "_copy_chunk((slice(600, 900, None), slice(0, 25, None), slice(0, 53, None)))\n",
      "_copy_chunk((slice(900, 1200, None), slice(0, 25, None), slice(0, 53, None)))\n",
      "_copy_chunk((slice(1200, 1500, None), slice(0, 25, None), slice(0, 53, None)))\n",
      "_copy_chunk((slice(1500, 1800, None), slice(0, 25, None), slice(0, 53, None)))\n",
      "_copy_chunk((slice(1800, 2100, None), slice(0, 25, None), slice(0, 53, None)))\n",
      "_copy_chunk((slice(2100, 2400, None), slice(0, 25, None), slice(0, 53, None)))\n",
      "_copy_chunk((slice(2400, 2700, None), slice(0, 25, None), slice(0, 53, None)))\n",
      "_copy_chunk((slice(2700, 2920, None), slice(0, 25, None), slice(0, 53, None)))\n",
      "_copy_chunk((slice(0, 25, None),))\n",
      "_copy_chunk((slice(0, 2920, None),))\n",
      "_copy_chunk((slice(0, 53, None),))\n",
      "_copy_chunk((slice(0, 2920, None), slice(0, 25, None), slice(0, 6, None)))\n",
      "_copy_chunk((slice(0, 2920, None), slice(0, 25, None), slice(6, 12, None)))\n",
      "_copy_chunk((slice(0, 2920, None), slice(0, 25, None), slice(12, 18, None)))\n",
      "_copy_chunk((slice(0, 2920, None), slice(0, 25, None), slice(18, 24, None)))\n",
      "_copy_chunk((slice(0, 2920, None), slice(0, 25, None), slice(24, 30, None)))\n",
      "_copy_chunk((slice(0, 2920, None), slice(0, 25, None), slice(30, 36, None)))\n",
      "_copy_chunk((slice(0, 2920, None), slice(0, 25, None), slice(36, 42, None)))\n",
      "_copy_chunk((slice(0, 2920, None), slice(0, 25, None), slice(42, 48, None)))\n",
      "_copy_chunk((slice(0, 2920, None), slice(0, 25, None), slice(48, 53, None)))\n"
     ]
    },
    {
     "data": {
      "text/plain": [
       "<zarr.hierarchy.Group '/'>"
      ]
     },
     "execution_count": 18,
     "metadata": {},
     "output_type": "execute_result"
    }
   ],
   "source": [
    "array_plan.execute()"
   ]
  },
  {
   "cell_type": "code",
   "execution_count": null,
   "metadata": {},
   "outputs": [],
   "source": []
  }
 ],
 "metadata": {
  "interpreter": {
   "hash": "038c04196df94ea7a9b07ecc1e5fc9defc715b5aff69685dcc86f7f906005b62"
  },
  "kernelspec": {
   "display_name": "Python 3.9.10 ('pangeo-forge-recipes')",
   "language": "python",
   "name": "python3"
  },
  "language_info": {
   "codemirror_mode": {
    "name": "ipython",
    "version": 3
   },
   "file_extension": ".py",
   "mimetype": "text/x-python",
   "name": "python",
   "nbconvert_exporter": "python",
   "pygments_lexer": "ipython3",
   "version": "3.10.4"
  },
  "orig_nbformat": 4
 },
 "nbformat": 4,
 "nbformat_minor": 2
}
