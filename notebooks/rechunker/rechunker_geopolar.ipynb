{
 "cells": [
  {
   "cell_type": "markdown",
   "metadata": {},
   "source": [
    "The code in this notebook converts a subset of NOAA geopolar data that is stored locally on the department server from big-in-space chunks to big-in-time chunks. Both datasub sets are full space with 124 time steps. It uses the rechunker library to do the conversion.\n",
    "\n",
    "(I believe this was run with a local rechunker install)"
   ]
  },
  {
   "cell_type": "code",
   "execution_count": null,
   "metadata": {},
   "outputs": [],
   "source": [
    "import os\n",
    "\n",
    "import zarr\n",
    "from rechunker import rechunk"
   ]
  },
  {
   "cell_type": "markdown",
   "metadata": {},
   "source": [
    "### Open the source data"
   ]
  },
  {
   "cell_type": "code",
   "execution_count": 10,
   "metadata": {},
   "outputs": [
    {
     "data": {
      "text/html": [
       "<table class=\"zarr-info\"><tbody><tr><th style=\"text-align: left\">Name</th><td style=\"text-align: left\">/analysed_sst</td></tr><tr><th style=\"text-align: left\">Type</th><td style=\"text-align: left\">zarr.core.Array</td></tr><tr><th style=\"text-align: left\">Data type</th><td style=\"text-align: left\">float32</td></tr><tr><th style=\"text-align: left\">Shape</th><td style=\"text-align: left\">(124, 3600, 7200)</td></tr><tr><th style=\"text-align: left\">Chunk shape</th><td style=\"text-align: left\">(2, 3600, 7200)</td></tr><tr><th style=\"text-align: left\">Order</th><td style=\"text-align: left\">C</td></tr><tr><th style=\"text-align: left\">Read-only</th><td style=\"text-align: left\">False</td></tr><tr><th style=\"text-align: left\">Compressor</th><td style=\"text-align: left\">Blosc(cname='lz4', clevel=5, shuffle=SHUFFLE, blocksize=0)</td></tr><tr><th style=\"text-align: left\">Store type</th><td style=\"text-align: left\">zarr.storage.DirectoryStore</td></tr><tr><th style=\"text-align: left\">No. bytes</th><td style=\"text-align: left\">12856320000 (12.0G)</td></tr><tr><th style=\"text-align: left\">No. bytes stored</th><td style=\"text-align: left\">3506949738 (3.3G)</td></tr><tr><th style=\"text-align: left\">Storage ratio</th><td style=\"text-align: left\">3.7</td></tr><tr><th style=\"text-align: left\">Chunks initialized</th><td style=\"text-align: left\">62/62</td></tr></tbody></table>"
      ],
      "text/plain": [
       "Name               : /analysed_sst\n",
       "Type               : zarr.core.Array\n",
       "Data type          : float32\n",
       "Shape              : (124, 3600, 7200)\n",
       "Chunk shape        : (2, 3600, 7200)\n",
       "Order              : C\n",
       "Read-only          : False\n",
       "Compressor         : Blosc(cname='lz4', clevel=5, shuffle=SHUFFLE, blocksize=0)\n",
       "Store type         : zarr.storage.DirectoryStore\n",
       "No. bytes          : 12856320000 (12.0G)\n",
       "No. bytes stored   : 3506949738 (3.3G)\n",
       "Storage ratio      : 3.7\n",
       "Chunks initialized : 62/62"
      ]
     },
     "execution_count": 10,
     "metadata": {},
     "output_type": "execute_result"
    }
   ],
   "source": [
    "data_dir = os.environ['DATA_DIR']\n",
    "geopolar_filepath = os.path.join(data_dir, 'noaa-geopolar-space-chunked.zarr')\n",
    "zarr.open(geopolar_filepath).analysed_sst.info"
   ]
  },
  {
   "cell_type": "markdown",
   "metadata": {},
   "source": [
    "### Run Rechunker"
   ]
  },
  {
   "cell_type": "markdown",
   "metadata": {},
   "source": [
    "NOTES:\n",
    "This didn't work with `'time': -1`, it also didn't work with using just one dictionary `{'time': 124, 'lat': 650, 'lon': 650}`. I understood from the tutorial that it was supposed to broadcast the shape out, but that didn't seem to work for me.\n",
    "Also, I had to set the memory really high. If I kept it at `'1MB'` I got an error that I ran out of memory."
   ]
  },
  {
   "cell_type": "code",
   "execution_count": 14,
   "metadata": {},
   "outputs": [],
   "source": [
    "source_group = zarr.open(geopolar_filepath)\n",
    "target_chunks = {\n",
    "    'analysed_sst': {'time': 124, 'lat': 650, 'lon': 650},\n",
    "    'analysis_error': {'time': 124, 'lat': 650, 'lon': 650},\n",
    "    'mask': {'time': 124, 'lat': 650, 'lon': 650},\n",
    "    'sea_ice_fraction': {'time': 124, 'lat': 650, 'lon': 650},\n",
    "    'time': None, # don't rechunk this array\n",
    "    'lon': None,\n",
    "    'lat': None,\n",
    "\t}\n",
    "\n",
    "max_mem = '400MB'\n",
    "\n",
    "target_store = os.path.join(data_dir, 'noaa-geopolar-time-chunked.zarr')\n",
    "temp_store = 'noaa-geopolar-time-chunked-tmp.zarr'\n",
    "\n",
    "array_plan = rechunk(\n",
    "    source_group, target_chunks, max_mem, target_store,\n",
    "    temp_store = temp_store,\n",
    "    )"
   ]
  },
  {
   "cell_type": "markdown",
   "metadata": {},
   "source": [
    "Attempting to consolidate the metadata, so I don't get that warning everytime on load. (unsuccessful)"
   ]
  },
  {
   "cell_type": "code",
   "execution_count": 39,
   "metadata": {},
   "outputs": [
    {
     "ename": "AttributeError",
     "evalue": "'numpy.ndarray' object has no attribute 'endswith'",
     "output_type": "error",
     "traceback": [
      "\u001b[0;31m---------------------------------------------------------------------------\u001b[0m",
      "\u001b[0;31mAttributeError\u001b[0m                            Traceback (most recent call last)",
      "\u001b[1;32m/homes/metogra/rwegener/mhw-ocetrac-census/notebooks/rechunker_geopolar.ipynb Cell 17'\u001b[0m in \u001b[0;36m<cell line: 2>\u001b[0;34m()\u001b[0m\n\u001b[1;32m      <a href='vscode-notebook-cell://ssh-remote%2Bhalo2.atmos.umd.edu/homes/metogra/rwegener/mhw-ocetrac-census/notebooks/rechunker_geopolar.ipynb#ch0000018vscode-remote?line=0'>1</a>\u001b[0m \u001b[39m# zarr.open_consolidated(target_store)\u001b[39;00m\n\u001b[0;32m----> <a href='vscode-notebook-cell://ssh-remote%2Bhalo2.atmos.umd.edu/homes/metogra/rwegener/mhw-ocetrac-census/notebooks/rechunker_geopolar.ipynb#ch0000018vscode-remote?line=1'>2</a>\u001b[0m zarr\u001b[39m.\u001b[39;49mconsolidate_metadata(time_chunked\u001b[39m.\u001b[39;49manalysed_sst)\n",
      "File \u001b[0;32m~/.conda/envs/pangeo-forge-recipes/lib/python3.10/site-packages/zarr/convenience.py:1127\u001b[0m, in \u001b[0;36mconsolidate_metadata\u001b[0;34m(store, metadata_key)\u001b[0m\n\u001b[1;32m   <a href='file:///homes/metogra/rwegener/.conda/envs/pangeo-forge-recipes/lib/python3.10/site-packages/zarr/convenience.py?line=1120'>1121</a>\u001b[0m \u001b[39mdef\u001b[39;00m \u001b[39mis_zarr_key\u001b[39m(key):\n\u001b[1;32m   <a href='file:///homes/metogra/rwegener/.conda/envs/pangeo-forge-recipes/lib/python3.10/site-packages/zarr/convenience.py?line=1121'>1122</a>\u001b[0m     \u001b[39mreturn\u001b[39;00m (key\u001b[39m.\u001b[39mendswith(\u001b[39m'\u001b[39m\u001b[39m.zarray\u001b[39m\u001b[39m'\u001b[39m) \u001b[39mor\u001b[39;00m key\u001b[39m.\u001b[39mendswith(\u001b[39m'\u001b[39m\u001b[39m.zgroup\u001b[39m\u001b[39m'\u001b[39m) \u001b[39mor\u001b[39;00m\n\u001b[1;32m   <a href='file:///homes/metogra/rwegener/.conda/envs/pangeo-forge-recipes/lib/python3.10/site-packages/zarr/convenience.py?line=1122'>1123</a>\u001b[0m             key\u001b[39m.\u001b[39mendswith(\u001b[39m'\u001b[39m\u001b[39m.zattrs\u001b[39m\u001b[39m'\u001b[39m))\n\u001b[1;32m   <a href='file:///homes/metogra/rwegener/.conda/envs/pangeo-forge-recipes/lib/python3.10/site-packages/zarr/convenience.py?line=1124'>1125</a>\u001b[0m out \u001b[39m=\u001b[39m {\n\u001b[1;32m   <a href='file:///homes/metogra/rwegener/.conda/envs/pangeo-forge-recipes/lib/python3.10/site-packages/zarr/convenience.py?line=1125'>1126</a>\u001b[0m     \u001b[39m'\u001b[39m\u001b[39mzarr_consolidated_format\u001b[39m\u001b[39m'\u001b[39m: \u001b[39m1\u001b[39m,\n\u001b[0;32m-> <a href='file:///homes/metogra/rwegener/.conda/envs/pangeo-forge-recipes/lib/python3.10/site-packages/zarr/convenience.py?line=1126'>1127</a>\u001b[0m     \u001b[39m'\u001b[39m\u001b[39mmetadata\u001b[39m\u001b[39m'\u001b[39m: {\n\u001b[1;32m   <a href='file:///homes/metogra/rwegener/.conda/envs/pangeo-forge-recipes/lib/python3.10/site-packages/zarr/convenience.py?line=1127'>1128</a>\u001b[0m         key: json_loads(store[key])\n\u001b[1;32m   <a href='file:///homes/metogra/rwegener/.conda/envs/pangeo-forge-recipes/lib/python3.10/site-packages/zarr/convenience.py?line=1128'>1129</a>\u001b[0m         \u001b[39mfor\u001b[39;00m key \u001b[39min\u001b[39;00m store \u001b[39mif\u001b[39;00m is_zarr_key(key)\n\u001b[1;32m   <a href='file:///homes/metogra/rwegener/.conda/envs/pangeo-forge-recipes/lib/python3.10/site-packages/zarr/convenience.py?line=1129'>1130</a>\u001b[0m     }\n\u001b[1;32m   <a href='file:///homes/metogra/rwegener/.conda/envs/pangeo-forge-recipes/lib/python3.10/site-packages/zarr/convenience.py?line=1130'>1131</a>\u001b[0m }\n\u001b[1;32m   <a href='file:///homes/metogra/rwegener/.conda/envs/pangeo-forge-recipes/lib/python3.10/site-packages/zarr/convenience.py?line=1131'>1132</a>\u001b[0m store[metadata_key] \u001b[39m=\u001b[39m json_dumps(out)\n\u001b[1;32m   <a href='file:///homes/metogra/rwegener/.conda/envs/pangeo-forge-recipes/lib/python3.10/site-packages/zarr/convenience.py?line=1132'>1133</a>\u001b[0m \u001b[39mreturn\u001b[39;00m open_consolidated(store, metadata_key\u001b[39m=\u001b[39mmetadata_key)\n",
      "File \u001b[0;32m~/.conda/envs/pangeo-forge-recipes/lib/python3.10/site-packages/zarr/convenience.py:1129\u001b[0m, in \u001b[0;36m<dictcomp>\u001b[0;34m(.0)\u001b[0m\n\u001b[1;32m   <a href='file:///homes/metogra/rwegener/.conda/envs/pangeo-forge-recipes/lib/python3.10/site-packages/zarr/convenience.py?line=1120'>1121</a>\u001b[0m \u001b[39mdef\u001b[39;00m \u001b[39mis_zarr_key\u001b[39m(key):\n\u001b[1;32m   <a href='file:///homes/metogra/rwegener/.conda/envs/pangeo-forge-recipes/lib/python3.10/site-packages/zarr/convenience.py?line=1121'>1122</a>\u001b[0m     \u001b[39mreturn\u001b[39;00m (key\u001b[39m.\u001b[39mendswith(\u001b[39m'\u001b[39m\u001b[39m.zarray\u001b[39m\u001b[39m'\u001b[39m) \u001b[39mor\u001b[39;00m key\u001b[39m.\u001b[39mendswith(\u001b[39m'\u001b[39m\u001b[39m.zgroup\u001b[39m\u001b[39m'\u001b[39m) \u001b[39mor\u001b[39;00m\n\u001b[1;32m   <a href='file:///homes/metogra/rwegener/.conda/envs/pangeo-forge-recipes/lib/python3.10/site-packages/zarr/convenience.py?line=1122'>1123</a>\u001b[0m             key\u001b[39m.\u001b[39mendswith(\u001b[39m'\u001b[39m\u001b[39m.zattrs\u001b[39m\u001b[39m'\u001b[39m))\n\u001b[1;32m   <a href='file:///homes/metogra/rwegener/.conda/envs/pangeo-forge-recipes/lib/python3.10/site-packages/zarr/convenience.py?line=1124'>1125</a>\u001b[0m out \u001b[39m=\u001b[39m {\n\u001b[1;32m   <a href='file:///homes/metogra/rwegener/.conda/envs/pangeo-forge-recipes/lib/python3.10/site-packages/zarr/convenience.py?line=1125'>1126</a>\u001b[0m     \u001b[39m'\u001b[39m\u001b[39mzarr_consolidated_format\u001b[39m\u001b[39m'\u001b[39m: \u001b[39m1\u001b[39m,\n\u001b[1;32m   <a href='file:///homes/metogra/rwegener/.conda/envs/pangeo-forge-recipes/lib/python3.10/site-packages/zarr/convenience.py?line=1126'>1127</a>\u001b[0m     \u001b[39m'\u001b[39m\u001b[39mmetadata\u001b[39m\u001b[39m'\u001b[39m: {\n\u001b[1;32m   <a href='file:///homes/metogra/rwegener/.conda/envs/pangeo-forge-recipes/lib/python3.10/site-packages/zarr/convenience.py?line=1127'>1128</a>\u001b[0m         key: json_loads(store[key])\n\u001b[0;32m-> <a href='file:///homes/metogra/rwegener/.conda/envs/pangeo-forge-recipes/lib/python3.10/site-packages/zarr/convenience.py?line=1128'>1129</a>\u001b[0m         \u001b[39mfor\u001b[39;00m key \u001b[39min\u001b[39;00m store \u001b[39mif\u001b[39;00m is_zarr_key(key)\n\u001b[1;32m   <a href='file:///homes/metogra/rwegener/.conda/envs/pangeo-forge-recipes/lib/python3.10/site-packages/zarr/convenience.py?line=1129'>1130</a>\u001b[0m     }\n\u001b[1;32m   <a href='file:///homes/metogra/rwegener/.conda/envs/pangeo-forge-recipes/lib/python3.10/site-packages/zarr/convenience.py?line=1130'>1131</a>\u001b[0m }\n\u001b[1;32m   <a href='file:///homes/metogra/rwegener/.conda/envs/pangeo-forge-recipes/lib/python3.10/site-packages/zarr/convenience.py?line=1131'>1132</a>\u001b[0m store[metadata_key] \u001b[39m=\u001b[39m json_dumps(out)\n\u001b[1;32m   <a href='file:///homes/metogra/rwegener/.conda/envs/pangeo-forge-recipes/lib/python3.10/site-packages/zarr/convenience.py?line=1132'>1133</a>\u001b[0m \u001b[39mreturn\u001b[39;00m open_consolidated(store, metadata_key\u001b[39m=\u001b[39mmetadata_key)\n",
      "File \u001b[0;32m~/.conda/envs/pangeo-forge-recipes/lib/python3.10/site-packages/zarr/convenience.py:1122\u001b[0m, in \u001b[0;36mconsolidate_metadata.<locals>.is_zarr_key\u001b[0;34m(key)\u001b[0m\n\u001b[1;32m   <a href='file:///homes/metogra/rwegener/.conda/envs/pangeo-forge-recipes/lib/python3.10/site-packages/zarr/convenience.py?line=1120'>1121</a>\u001b[0m \u001b[39mdef\u001b[39;00m \u001b[39mis_zarr_key\u001b[39m(key):\n\u001b[0;32m-> <a href='file:///homes/metogra/rwegener/.conda/envs/pangeo-forge-recipes/lib/python3.10/site-packages/zarr/convenience.py?line=1121'>1122</a>\u001b[0m     \u001b[39mreturn\u001b[39;00m (key\u001b[39m.\u001b[39;49mendswith(\u001b[39m'\u001b[39m\u001b[39m.zarray\u001b[39m\u001b[39m'\u001b[39m) \u001b[39mor\u001b[39;00m key\u001b[39m.\u001b[39mendswith(\u001b[39m'\u001b[39m\u001b[39m.zgroup\u001b[39m\u001b[39m'\u001b[39m) \u001b[39mor\u001b[39;00m\n\u001b[1;32m   <a href='file:///homes/metogra/rwegener/.conda/envs/pangeo-forge-recipes/lib/python3.10/site-packages/zarr/convenience.py?line=1122'>1123</a>\u001b[0m             key\u001b[39m.\u001b[39mendswith(\u001b[39m'\u001b[39m\u001b[39m.zattrs\u001b[39m\u001b[39m'\u001b[39m))\n",
      "\u001b[0;31mAttributeError\u001b[0m: 'numpy.ndarray' object has no attribute 'endswith'"
     ]
    }
   ],
   "source": [
    "time_chunked = zarr.open(target_store)\n",
    "\n",
    "zarr.consolidate_metadata(time_chunked.analysed_sst)"
   ]
  },
  {
   "cell_type": "code",
   "execution_count": null,
   "metadata": {},
   "outputs": [],
   "source": []
  }
 ],
 "metadata": {
  "interpreter": {
   "hash": "038c04196df94ea7a9b07ecc1e5fc9defc715b5aff69685dcc86f7f906005b62"
  },
  "kernelspec": {
   "display_name": "Python 3.9.10 ('pangeo-forge-recipes')",
   "language": "python",
   "name": "python3"
  },
  "language_info": {
   "codemirror_mode": {
    "name": "ipython",
    "version": 3
   },
   "file_extension": ".py",
   "mimetype": "text/x-python",
   "name": "python",
   "nbconvert_exporter": "python",
   "pygments_lexer": "ipython3",
   "version": "3.10.4"
  },
  "orig_nbformat": 4
 },
 "nbformat": 4,
 "nbformat_minor": 2
}
