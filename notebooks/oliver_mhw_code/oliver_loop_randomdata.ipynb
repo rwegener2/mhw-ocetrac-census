{
 "cells": [
  {
   "cell_type": "markdown",
   "metadata": {},
   "source": [
    "This notebook documents the ways to parellize the loop of mhw processing that was demonstrated in the `ejoliver_subset_MUR.ipynb` notebook. It uses a randomly generated 1,000 x 100 x 100 pixel grid of data for simplicity.\n",
    "Two methods shown here:\n",
    "1. `da.apply_along_axis()`\n",
    "2. `da.map_blocks()`\n",
    "\n",
    "Key stackoverflow support part of these processes:\n",
    "- [parellelizing the loop](https://stackoverflow.com/questions/71916577/dask-looping-over-library-function-call)\n",
    "- [iterating map_blocks for debugging](https://stackoverflow.com/questions/72015205/iterating-through-dask-array-chunks)"
   ]
  },
  {
   "cell_type": "markdown",
   "metadata": {},
   "source": [
    "# Code Snippets"
   ]
  },
  {
   "cell_type": "markdown",
   "metadata": {},
   "source": [
    "## `da.apply_along_axis()`\n",
    "\n",
    "Output of `result` is some kind of thing where the entire ouptut of `mhw.detect()` all get smushed together into some kind of array.\n",
    "\n",
    "Note: the `dtype=data.dtype, shape=(1000,)` inputs to `apply_along_axis()` are necessary.  Without them the function gets passed an array of shape `(1,)` and it doesn't work."
   ]
  },
  {
   "cell_type": "code",
   "execution_count": null,
   "metadata": {},
   "outputs": [],
   "source": [
    "import numpy as np\n",
    "import dask.array as da\n",
    "import marineHeatWaves as mhw\n",
    "from dask.distributed import Client\n",
    "\n",
    "client = Client()"
   ]
  },
  {
   "cell_type": "code",
   "execution_count": null,
   "metadata": {},
   "outputs": [],
   "source": [
    "# Create fake input data\n",
    "lat_size, long_size = 100, 100\n",
    "data = da.random.random_integers(0, 30, size=(1_000, long_size, lat_size), chunks=(-1, 10, 10))  # size = (time, longitude, latitude)\n",
    "time = np.arange(730_000, 731_000)  # time in ordinal days\n",
    "\n",
    "# define a wrapper to rearrange arguments\n",
    "def func1d(arr, time):\n",
    "   return mhw.detect(time, arr)\n",
    "\n",
    "result = da.apply_along_axis(func1d, 0, data, time=time, dtype=data.dtype, shape=(1000,))\n",
    "result.compute()"
   ]
  },
  {
   "cell_type": "markdown",
   "metadata": {},
   "source": [
    "## `da.map_blocks()`\n",
    "\n",
    "This technically is a longer version of the `apply_along_axis()` method. It was helpful for seeing the process, though, when I was missing an arguemnt I needed in the other method.\n",
    "\n",
    "Output of `result` is some kind of thing where the entire ouptut of `mhw.detect()` all get smushed together into some kind of array."
   ]
  },
  {
   "cell_type": "code",
   "execution_count": null,
   "metadata": {},
   "outputs": [],
   "source": [
    "import numpy as np\n",
    "import dask.array as da\n",
    "import marineHeatWaves as mhw\n",
    "from dask.distributed import Client\n",
    "\n",
    "client = Client()"
   ]
  },
  {
   "cell_type": "code",
   "execution_count": 3,
   "metadata": {},
   "outputs": [],
   "source": [
    "# Create fake input data\n",
    "lat_size, long_size = 100, 100\n",
    "data = da.random.random_integers(0, 30, size=(1_000, long_size, lat_size), chunks=(-1, 10, 10))  # size = (time, longitude, latitude)\n",
    "time = np.arange(730_000, 731_000)  # time in ordinal days\n",
    "\n",
    "# define a wrapper to rearrange arguments\n",
    "def func1d(arr, time):\n",
    "   return mhw.detect(time, arr)\n",
    "\n",
    "def block_func(block, **kwargs):\n",
    "    return np.apply_along_axis(func1d, 0, block, **kwargs)\n",
    "\n",
    "result = data.map_blocks(block_func, meta=data, time=time)\n",
    "result = result.compute()"
   ]
  },
  {
   "cell_type": "markdown",
   "metadata": {},
   "source": [
    "## Final Output\n",
    "\n",
    "This is the cleaned and final version of the different techniques above.  In general the `map_blocks()` approach is just a manual version of what was happening in the `apply_along_axis()` approach, so that is the one I went with for the final. I wasn't able to figure out how to get the function to `mhw.detect()` function to run only once and assign the output different places, although I'm pretty sure it can be done. Instead of that, then, the code below runs the function twice."
   ]
  },
  {
   "cell_type": "code",
   "execution_count": 2,
   "metadata": {},
   "outputs": [],
   "source": [
    "import numpy as np\n",
    "import dask.array as da\n",
    "import marineHeatWaves as mhw\n",
    "from dask.distributed import Client\n",
    "\n",
    "client = Client()"
   ]
  },
  {
   "cell_type": "code",
   "execution_count": 16,
   "metadata": {},
   "outputs": [],
   "source": [
    "# Create fake input data\n",
    "lat_size, long_size, time_size = 100, 100, 1000\n",
    "data = da.random.random_integers(0, 30, size=(time_size, long_size, lat_size), chunks=(-1, 10, 10))  # size = (time, longitude, latitude)\n",
    "time = np.arange(730_000, 731_000)  # time in ordinal days\n",
    "\n",
    "# define a wrapper to rearrange arguments\n",
    "def func1d_climatology(arr, time):\n",
    "   _, point_clim = mhw.detect(time, arr)\n",
    "   # return climatology\n",
    "   return point_clim['seas']\n",
    "\n",
    "# define a wrapper to rearrange arguments\n",
    "def func1d_threshold(arr, time):\n",
    "   _, point_clim = mhw.detect(time, arr)\n",
    "   # return threshold\n",
    "   return point_clim['thresh']\n",
    "\n",
    "# output arrays\n",
    "full_climatology = da.zeros_like(data)\n",
    "full_threshold = da.zeros_like(data)\n",
    "\n",
    "climatology = da.apply_along_axis(func1d_climatology, 0, data, time=time, dtype=data.dtype, shape=(time_size,))\n",
    "threshold = da.apply_along_axis(func1d_threshold, 0, data, time=time, dtype=data.dtype, shape=(time_size,))\n"
   ]
  },
  {
   "cell_type": "code",
   "execution_count": 12,
   "metadata": {},
   "outputs": [],
   "source": [
    "output_cim = climatology.compute()\n",
    "# output_thresh = threshold.compute()"
   ]
  },
  {
   "cell_type": "code",
   "execution_count": 17,
   "metadata": {},
   "outputs": [
    {
     "data": {
      "text/html": [
       "<table>\n",
       "    <tr>\n",
       "        <td>\n",
       "            <table>\n",
       "                <thead>\n",
       "                    <tr>\n",
       "                        <td> </td>\n",
       "                        <th> Array </th>\n",
       "                        <th> Chunk </th>\n",
       "                    </tr>\n",
       "                </thead>\n",
       "                <tbody>\n",
       "                    \n",
       "                    <tr>\n",
       "                        <th> Bytes </th>\n",
       "                        <td> 76.29 MiB </td>\n",
       "                        <td> 781.25 kiB </td>\n",
       "                    </tr>\n",
       "                    \n",
       "                    <tr>\n",
       "                        <th> Shape </th>\n",
       "                        <td> (1000, 100, 100) </td>\n",
       "                        <td> (1000, 10, 10) </td>\n",
       "                    </tr>\n",
       "                    <tr>\n",
       "                        <th> Count </th>\n",
       "                        <td> 200 Tasks </td>\n",
       "                        <td> 100 Chunks </td>\n",
       "                    </tr>\n",
       "                    <tr>\n",
       "                    <th> Type </th>\n",
       "                    <td> int64 </td>\n",
       "                    <td> numpy.ndarray </td>\n",
       "                    </tr>\n",
       "                </tbody>\n",
       "            </table>\n",
       "        </td>\n",
       "        <td>\n",
       "        <svg width=\"169\" height=\"159\" style=\"stroke:rgb(0,0,0);stroke-width:1\" >\n",
       "\n",
       "  <!-- Horizontal lines -->\n",
       "  <line x1=\"10\" y1=\"0\" x2=\"80\" y2=\"70\" style=\"stroke-width:2\" />\n",
       "  <line x1=\"10\" y1=\"3\" x2=\"80\" y2=\"74\" />\n",
       "  <line x1=\"10\" y1=\"7\" x2=\"80\" y2=\"78\" />\n",
       "  <line x1=\"10\" y1=\"11\" x2=\"80\" y2=\"82\" />\n",
       "  <line x1=\"10\" y1=\"15\" x2=\"80\" y2=\"86\" />\n",
       "  <line x1=\"10\" y1=\"19\" x2=\"80\" y2=\"89\" />\n",
       "  <line x1=\"10\" y1=\"23\" x2=\"80\" y2=\"93\" />\n",
       "  <line x1=\"10\" y1=\"27\" x2=\"80\" y2=\"97\" />\n",
       "  <line x1=\"10\" y1=\"30\" x2=\"80\" y2=\"101\" />\n",
       "  <line x1=\"10\" y1=\"34\" x2=\"80\" y2=\"105\" />\n",
       "  <line x1=\"10\" y1=\"38\" x2=\"80\" y2=\"109\" style=\"stroke-width:2\" />\n",
       "\n",
       "  <!-- Vertical lines -->\n",
       "  <line x1=\"10\" y1=\"0\" x2=\"10\" y2=\"38\" style=\"stroke-width:2\" />\n",
       "  <line x1=\"80\" y1=\"70\" x2=\"80\" y2=\"109\" style=\"stroke-width:2\" />\n",
       "\n",
       "  <!-- Colored Rectangle -->\n",
       "  <polygon points=\"10.0,0.0 80.58823529411765,70.58823529411765 80.58823529411765,109.18509833020366 10.0,38.596863036086\" style=\"fill:#ECB172A0;stroke-width:0\"/>\n",
       "\n",
       "  <!-- Horizontal lines -->\n",
       "  <line x1=\"10\" y1=\"0\" x2=\"48\" y2=\"0\" style=\"stroke-width:2\" />\n",
       "  <line x1=\"80\" y1=\"70\" x2=\"119\" y2=\"70\" style=\"stroke-width:2\" />\n",
       "\n",
       "  <!-- Vertical lines -->\n",
       "  <line x1=\"10\" y1=\"0\" x2=\"80\" y2=\"70\" style=\"stroke-width:2\" />\n",
       "  <line x1=\"13\" y1=\"0\" x2=\"84\" y2=\"70\" />\n",
       "  <line x1=\"17\" y1=\"0\" x2=\"88\" y2=\"70\" />\n",
       "  <line x1=\"21\" y1=\"0\" x2=\"92\" y2=\"70\" />\n",
       "  <line x1=\"25\" y1=\"0\" x2=\"96\" y2=\"70\" />\n",
       "  <line x1=\"29\" y1=\"0\" x2=\"99\" y2=\"70\" />\n",
       "  <line x1=\"33\" y1=\"0\" x2=\"103\" y2=\"70\" />\n",
       "  <line x1=\"37\" y1=\"0\" x2=\"107\" y2=\"70\" />\n",
       "  <line x1=\"40\" y1=\"0\" x2=\"111\" y2=\"70\" />\n",
       "  <line x1=\"44\" y1=\"0\" x2=\"115\" y2=\"70\" />\n",
       "  <line x1=\"48\" y1=\"0\" x2=\"119\" y2=\"70\" style=\"stroke-width:2\" />\n",
       "\n",
       "  <!-- Colored Rectangle -->\n",
       "  <polygon points=\"10.0,0.0 48.596863036086,0.0 119.18509833020366,70.58823529411765 80.58823529411765,70.58823529411765\" style=\"fill:#ECB172A0;stroke-width:0\"/>\n",
       "\n",
       "  <!-- Horizontal lines -->\n",
       "  <line x1=\"80\" y1=\"70\" x2=\"119\" y2=\"70\" style=\"stroke-width:2\" />\n",
       "  <line x1=\"80\" y1=\"74\" x2=\"119\" y2=\"74\" />\n",
       "  <line x1=\"80\" y1=\"78\" x2=\"119\" y2=\"78\" />\n",
       "  <line x1=\"80\" y1=\"82\" x2=\"119\" y2=\"82\" />\n",
       "  <line x1=\"80\" y1=\"86\" x2=\"119\" y2=\"86\" />\n",
       "  <line x1=\"80\" y1=\"89\" x2=\"119\" y2=\"89\" />\n",
       "  <line x1=\"80\" y1=\"93\" x2=\"119\" y2=\"93\" />\n",
       "  <line x1=\"80\" y1=\"97\" x2=\"119\" y2=\"97\" />\n",
       "  <line x1=\"80\" y1=\"101\" x2=\"119\" y2=\"101\" />\n",
       "  <line x1=\"80\" y1=\"105\" x2=\"119\" y2=\"105\" />\n",
       "  <line x1=\"80\" y1=\"109\" x2=\"119\" y2=\"109\" style=\"stroke-width:2\" />\n",
       "\n",
       "  <!-- Vertical lines -->\n",
       "  <line x1=\"80\" y1=\"70\" x2=\"80\" y2=\"109\" style=\"stroke-width:2\" />\n",
       "  <line x1=\"84\" y1=\"70\" x2=\"84\" y2=\"109\" />\n",
       "  <line x1=\"88\" y1=\"70\" x2=\"88\" y2=\"109\" />\n",
       "  <line x1=\"92\" y1=\"70\" x2=\"92\" y2=\"109\" />\n",
       "  <line x1=\"96\" y1=\"70\" x2=\"96\" y2=\"109\" />\n",
       "  <line x1=\"99\" y1=\"70\" x2=\"99\" y2=\"109\" />\n",
       "  <line x1=\"103\" y1=\"70\" x2=\"103\" y2=\"109\" />\n",
       "  <line x1=\"107\" y1=\"70\" x2=\"107\" y2=\"109\" />\n",
       "  <line x1=\"111\" y1=\"70\" x2=\"111\" y2=\"109\" />\n",
       "  <line x1=\"115\" y1=\"70\" x2=\"115\" y2=\"109\" />\n",
       "  <line x1=\"119\" y1=\"70\" x2=\"119\" y2=\"109\" style=\"stroke-width:2\" />\n",
       "\n",
       "  <!-- Colored Rectangle -->\n",
       "  <polygon points=\"80.58823529411765,70.58823529411765 119.18509833020366,70.58823529411765 119.18509833020366,109.18509833020366 80.58823529411765,109.18509833020366\" style=\"fill:#ECB172A0;stroke-width:0\"/>\n",
       "\n",
       "  <!-- Text -->\n",
       "  <text x=\"99.886667\" y=\"129.185098\" font-size=\"1.0rem\" font-weight=\"100\" text-anchor=\"middle\" >100</text>\n",
       "  <text x=\"139.185098\" y=\"89.886667\" font-size=\"1.0rem\" font-weight=\"100\" text-anchor=\"middle\" transform=\"rotate(-90,139.185098,89.886667)\">100</text>\n",
       "  <text x=\"35.294118\" y=\"93.890981\" font-size=\"1.0rem\" font-weight=\"100\" text-anchor=\"middle\" transform=\"rotate(45,35.294118,93.890981)\">1000</text>\n",
       "</svg>\n",
       "        </td>\n",
       "    </tr>\n",
       "</table>"
      ],
      "text/plain": [
       "dask.array<func1d_climatology-along-axis, shape=(1000, 100, 100), dtype=int64, chunksize=(1000, 10, 10), chunktype=numpy.ndarray>"
      ]
     },
     "execution_count": 17,
     "metadata": {},
     "output_type": "execute_result"
    },
    {
     "ename": "",
     "evalue": "",
     "output_type": "error",
     "traceback": [
      "\u001b[1;31mThe Kernel crashed while executing code in the the current cell or a previous cell. Please review the code in the cell(s) to identify a possible cause of the failure. Click <a href='https://aka.ms/vscodeJupyterKernelCrash'>here</a> for more info. View Jupyter <a href='command:jupyter.viewOutput'>log</a> for further details."
     ]
    }
   ],
   "source": [
    "climatology"
   ]
  },
  {
   "cell_type": "code",
   "execution_count": 14,
   "metadata": {},
   "outputs": [
    {
     "data": {
      "text/plain": [
       "80.0"
      ]
     },
     "execution_count": 14,
     "metadata": {},
     "output_type": "execute_result"
    }
   ],
   "source": [
    "data.nbytes / 1e6"
   ]
  },
  {
   "cell_type": "markdown",
   "metadata": {},
   "source": [
    "# Timing blocks and chunks"
   ]
  },
  {
   "cell_type": "markdown",
   "metadata": {},
   "source": [
    "### Block 1 (chunked in time)\n",
    "**Source code**\n",
    "```python\n",
    "lat_size, long_size, time_size = 100, 100, 1000\n",
    "data = da.random.random_integers(0, 30, size=(time_size, long_size, lat_size), chunks=(-1, 10, 10))\n",
    "```\n",
    "**Size Stats**\n",
    "\n",
    "Data size: 80MB, 10 million grid points\n",
    "`climatology.compute()`: 1 min 28s\n",
    "No of tasks in xarray preview: 200 tasks, 800 KB chunks (80 MB total array)\n",
    "\n",
    "**Linear prediction**\n",
    "\n",
    "(220 times smaller than gulfstream block --> 330 minutes = 5.5 hours)\n",
    "\n",
    "**Dask comments**\n",
    "\n",
    "- 100 func_1d_clim tasks; 100 random_integers tasks\n",
    "- seems to hang for the first minute, then the last 30 seconds it buzzes through the climatology calculation\n",
    "\n",
    "### Block 2 (chunked in space)\n",
    "**Source code**\n",
    "\n",
    "```python\n",
    "lat_size, long_size, time_size = 100, 100, 1000\n",
    "data = da.random.random_integers(0, 30, size=(time_size, long_size, lat_size), chunks=(2, 100, 100))\n",
    "```\n",
    "**Size Stats**\n",
    "\n",
    "Data size: 80MB, 10 million grid points\n",
    "`climatology.compute()`: 11 min 50 sec\n",
    "No of tasks in xarray preview: 502 tasks, 80 MB chunks (80 MB total array)\n",
    "\n",
    "**Linear prediction**\n",
    "\n",
    "(220 times smaller than gulfstream block --> 44 hours, 2 days)\n",
    "I would guess the bigger in space dimenion won't affect timing much, but the bigger in time will dramatically. Not sure how the math on that will work out.\n",
    "\n",
    "An alternate (albeit highly hopeful perspective):\n",
    "(7 times as many time chunks --> 12 minutes * 7 = 84 minutes)\n",
    "\n",
    "**Dask comments**\n",
    "\n",
    "- 500 random_integers tasks, 1 func1d_clim task, 1 rechunk-merge task\n",
    "- 500 random_integers task completes in the first minute, seems from CPU use (Workers tab) that 1 worker then handles the remaining func1d_clim task on its own\n",
    "\n"
   ]
  },
  {
   "cell_type": "code",
   "execution_count": null,
   "metadata": {},
   "outputs": [],
   "source": []
  }
 ],
 "metadata": {
  "interpreter": {
   "hash": "688d131e37ce398ce55bdd57b745b13d7e8dd8942b3b8aa54a6aa78a9e394a63"
  },
  "kernelspec": {
   "display_name": "Python 3.8.12 ('mhw')",
   "language": "python",
   "name": "python3"
  },
  "language_info": {
   "codemirror_mode": {
    "name": "ipython",
    "version": 3
   },
   "file_extension": ".py",
   "mimetype": "text/x-python",
   "name": "python",
   "nbconvert_exporter": "python",
   "pygments_lexer": "ipython3",
   "version": "3.8.12"
  },
  "orig_nbformat": 4
 },
 "nbformat": 4,
 "nbformat_minor": 2
}
