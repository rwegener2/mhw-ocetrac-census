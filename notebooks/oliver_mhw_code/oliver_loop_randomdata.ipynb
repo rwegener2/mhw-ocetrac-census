{
 "cells": [
  {
   "cell_type": "markdown",
   "metadata": {},
   "source": [
    "This notebook documents the ways to parellize the loop of mhw processing that was demonstrated in the `ejoliver_subset_MUR.ipynb` notebook. It uses a randomly generated 1,000 x 100 x 100 pixel grid of data for simplicity.\n",
    "Two methods shown here:\n",
    "1. `da.apply_along_axis()`\n",
    "2. `da.map_blocks()`\n",
    "\n",
    "Key stackoverflow support part of these processes:\n",
    "- [parellelizing the loop](https://stackoverflow.com/questions/71916577/dask-looping-over-library-function-call)\n",
    "- [iterating map_blocks for debugging](https://stackoverflow.com/questions/72015205/iterating-through-dask-array-chunks)"
   ]
  },
  {
   "cell_type": "markdown",
   "metadata": {},
   "source": [
    "## `da.apply_along_axis()`\n",
    "\n",
    "Output of `result` is some kind of thing where the entire ouptut of `mhw.detect()` all get smushed together into some kind of array.\n",
    "\n",
    "Note: the `dtype=data.dtype, shape=(1000,)` inputs to `apply_along_axis()` are necessary.  Without them the function gets passed an array of shape `(1,)` and it doesn't work."
   ]
  },
  {
   "cell_type": "code",
   "execution_count": null,
   "metadata": {},
   "outputs": [],
   "source": [
    "import numpy as np\n",
    "import dask.array as da\n",
    "import marineHeatWaves as mhw\n",
    "from dask.distributed import Client\n",
    "\n",
    "client = Client()"
   ]
  },
  {
   "cell_type": "code",
   "execution_count": null,
   "metadata": {},
   "outputs": [],
   "source": [
    "# Create fake input data\n",
    "lat_size, long_size = 100, 100\n",
    "data = da.random.random_integers(0, 30, size=(1_000, long_size, lat_size), chunks=(-1, 10, 10))  # size = (time, longitude, latitude)\n",
    "time = np.arange(730_000, 731_000)  # time in ordinal days\n",
    "\n",
    "# define a wrapper to rearrange arguments\n",
    "def func1d(arr, time):\n",
    "   return mhw.detect(time, arr)\n",
    "\n",
    "result = da.apply_along_axis(func1d, 0, data, time=time, dtype=data.dtype, shape=(1000,))\n",
    "result.compute()"
   ]
  },
  {
   "cell_type": "markdown",
   "metadata": {},
   "source": [
    "## `da.map_blocks()`\n",
    "\n",
    "This technically is a longer version of the `apply_along_axis()` method. It was helpful for seeing the process, though, when I was missing an arguemnt I needed in the other method.\n",
    "\n",
    "Output of `result` is some kind of thing where the entire ouptut of `mhw.detect()` all get smushed together into some kind of array."
   ]
  },
  {
   "cell_type": "code",
   "execution_count": null,
   "metadata": {},
   "outputs": [],
   "source": [
    "import numpy as np\n",
    "import dask.array as da\n",
    "import marineHeatWaves as mhw\n",
    "from dask.distributed import Client\n",
    "\n",
    "client = Client()"
   ]
  },
  {
   "cell_type": "code",
   "execution_count": 3,
   "metadata": {},
   "outputs": [],
   "source": [
    "# Create fake input data\n",
    "lat_size, long_size = 100, 100\n",
    "data = da.random.random_integers(0, 30, size=(1_000, long_size, lat_size), chunks=(-1, 10, 10))  # size = (time, longitude, latitude)\n",
    "time = np.arange(730_000, 731_000)  # time in ordinal days\n",
    "\n",
    "# define a wrapper to rearrange arguments\n",
    "def func1d(arr, time):\n",
    "   return mhw.detect(time, arr)\n",
    "\n",
    "def block_func(block, **kwargs):\n",
    "    return np.apply_along_axis(func1d, 0, block, **kwargs)\n",
    "\n",
    "result = data.map_blocks(block_func, meta=data, time=time)\n",
    "result = result.compute()"
   ]
  },
  {
   "cell_type": "markdown",
   "metadata": {},
   "source": [
    "## Final Output\n",
    "\n",
    "This is the cleaned and final version of the different techniques above.  In general the `map_blocks()` approach is just a manual version of what was happening in the `apply_along_axis()` approach, so that is the one I went with for the final. I wasn't able to figure out how to get the function to `mhw.detect()` function to run only once and assign the output different places, although I'm pretty sure it can be done. Instead of that, then, the code below runs the function twice."
   ]
  },
  {
   "cell_type": "code",
   "execution_count": null,
   "metadata": {},
   "outputs": [],
   "source": [
    "import numpy as np\n",
    "import dask.array as da\n",
    "import marineHeatWaves as mhw\n",
    "from dask.distributed import Client\n",
    "\n",
    "client = Client()"
   ]
  },
  {
   "cell_type": "code",
   "execution_count": 4,
   "metadata": {},
   "outputs": [],
   "source": [
    "# Create fake input data\n",
    "lat_size, long_size = 100, 100\n",
    "data = da.random.random_integers(0, 30, size=(1_000, long_size, lat_size), chunks=(-1, 10, 10))  # size = (time, longitude, latitude)\n",
    "time = np.arange(730_000, 731_000)  # time in ordinal days\n",
    "\n",
    "# define a wrapper to rearrange arguments\n",
    "def func1d_climatology(arr, time):\n",
    "   _, point_clim = mhw.detect(time, arr)\n",
    "   # return climatology\n",
    "   return point_clim['seas']\n",
    "\n",
    "# define a wrapper to rearrange arguments\n",
    "def func1d_threshold(arr, time):\n",
    "   _, point_clim = mhw.detect(time, arr)\n",
    "   # return threshold\n",
    "   return point_clim['thresh']\n",
    "\n",
    "# output arrays\n",
    "full_climatology = da.zeros_like(data)\n",
    "full_threshold = da.zeros_like(data)\n",
    "\n",
    "climatology = da.apply_along_axis(func1d_climatology, 0, data, time=time, dtype=data.dtype, shape=(1000,))\n",
    "threshold = da.apply_along_axis(func1d_threshold, 0, data, time=time, dtype=data.dtype, shape=(1000,))\n"
   ]
  },
  {
   "cell_type": "code",
   "execution_count": 5,
   "metadata": {},
   "outputs": [],
   "source": [
    "output_cim = climatology.compute()\n",
    "output_thresh = threshold.compute()"
   ]
  },
  {
   "cell_type": "code",
   "execution_count": null,
   "metadata": {},
   "outputs": [],
   "source": []
  }
 ],
 "metadata": {
  "interpreter": {
   "hash": "688d131e37ce398ce55bdd57b745b13d7e8dd8942b3b8aa54a6aa78a9e394a63"
  },
  "kernelspec": {
   "display_name": "Python 3.8.12 ('mhw')",
   "language": "python",
   "name": "python3"
  },
  "language_info": {
   "codemirror_mode": {
    "name": "ipython",
    "version": 3
   },
   "file_extension": ".py",
   "mimetype": "text/x-python",
   "name": "python",
   "nbconvert_exporter": "python",
   "pygments_lexer": "ipython3",
   "version": "3.8.12"
  },
  "orig_nbformat": 4
 },
 "nbformat": 4,
 "nbformat_minor": 2
}
