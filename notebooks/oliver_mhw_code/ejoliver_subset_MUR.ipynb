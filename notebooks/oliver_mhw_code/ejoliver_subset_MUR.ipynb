{
 "cells": [
  {
   "cell_type": "markdown",
   "metadata": {},
   "source": [
    "This notebook calculates marine heatwaves using the code in Eric Oliver's marineHeatwaves repository.\n",
    "\n",
    "The code works but it works on only a single pixel at a time, or on a moderately sized block in a manual loop. I wrote a loop to calculate many pixels but it quickly becomes slow.  The results of the benchmarking for MUR are below."
   ]
  },
  {
   "cell_type": "code",
   "execution_count": 1,
   "metadata": {},
   "outputs": [],
   "source": [
    "from datetime import datetime \n",
    "\n",
    "import fsspec\n",
    "import xarray as xr\n",
    "import numpy as np\n",
    "import matplotlib.pyplot as plt\n",
    "import dask.array as da\n",
    "import marineHeatWaves as mhw"
   ]
  },
  {
   "cell_type": "code",
   "execution_count": null,
   "metadata": {},
   "outputs": [],
   "source": [
    "import s3fs"
   ]
  },
  {
   "cell_type": "markdown",
   "metadata": {},
   "source": [
    "## Load & Subset MUR"
   ]
  },
  {
   "cell_type": "code",
   "execution_count": null,
   "metadata": {},
   "outputs": [],
   "source": [
    "# Block: LOAD ZARR (no task activity)\n",
    "file_location = 's3://mur-sst/zarr'\n",
    "\n",
    "ikey = fsspec.get_mapper(file_location, anon=True)\n",
    "\n",
    "mur_full = xr.open_zarr(ikey, consolidated=True)\n",
    "mur = mur_full['analysed_sst']"
   ]
  },
  {
   "cell_type": "code",
   "execution_count": null,
   "metadata": {},
   "outputs": [],
   "source": [
    "# Block: SUBSET\n",
    "# 4 chunk subset, ~110 MB total\n",
    "mur_subset = mur.sel(lat=slice(32, 32.4), lon=slice(123.0, 123.2))"
   ]
  },
  {
   "cell_type": "code",
   "execution_count": null,
   "metadata": {},
   "outputs": [],
   "source": [
    "mur_subset"
   ]
  },
  {
   "cell_type": "markdown",
   "metadata": {},
   "source": [
    "## Oliver MHW code"
   ]
  },
  {
   "cell_type": "markdown",
   "metadata": {},
   "source": [
    "### Preprocessing"
   ]
  },
  {
   "cell_type": "code",
   "execution_count": null,
   "metadata": {},
   "outputs": [],
   "source": [
    "# Format time values\n",
    "time_dt_list = [datetime.strptime(str(time), '%Y-%m-%dT%H:%M:%S.000000000') for time in mur_subset.time.values]\n",
    "time_ordinal = np.array([time.toordinal() for time in time_dt_list])\n"
   ]
  },
  {
   "cell_type": "code",
   "execution_count": null,
   "metadata": {},
   "outputs": [],
   "source": [
    "# Extract sst as a numpy array\n",
    "sst_np = mur_subset.values"
   ]
  },
  {
   "cell_type": "markdown",
   "metadata": {},
   "source": [
    "### Calculating an individual pixel\n",
    "\n",
    "Example of how to use this code on a single point."
   ]
  },
  {
   "cell_type": "code",
   "execution_count": null,
   "metadata": {},
   "outputs": [],
   "source": [
    "mhws, clim = mhw.detect(time_ordinal, sst_np[:, 2, 6])"
   ]
  },
  {
   "cell_type": "code",
   "execution_count": null,
   "metadata": {},
   "outputs": [],
   "source": [
    "clim"
   ]
  },
  {
   "cell_type": "markdown",
   "metadata": {},
   "source": [
    "## Calculating a block of data"
   ]
  },
  {
   "cell_type": "code",
   "execution_count": null,
   "metadata": {},
   "outputs": [],
   "source": [
    "# Get number of pixels in each dimension\n",
    "size_t, size_lat, size_lon = sst_np.shape\n",
    "\n",
    "# Create empty arrays to hold the outputs\n",
    "full_climatology = np.empty(sst_np.shape)\n",
    "full_threshold = np.empty(sst_np.shape)\n",
    "\n",
    "# loop through each pixel in the sst array\n",
    "# numpy indexes row, col starting from the upper left\n",
    "for idx_lat in range(size_lat):\n",
    "    for idx_lon in range(size_lon):\n",
    "        # Calculate MHW stats for that pixel\n",
    "        mhws, point_clim = mhw.detect(time_ordinal, sst_np[:, idx_lat, idx_lon])\n",
    "        # Add the climatology and threshold to the output arrays\n",
    "        full_climatology[:, idx_lat, idx_lon] = point_clim['seas']\n",
    "        full_threshold[:, idx_lat, idx_lon] = point_clim['thresh']\n"
   ]
  },
  {
   "cell_type": "markdown",
   "metadata": {},
   "source": [
    "### Converting the data back to `xarray`\n",
    "\n",
    "Use the same lat, lon, and time dimensions/coordinates as the original `mur_subset` data."
   ]
  },
  {
   "cell_type": "code",
   "execution_count": null,
   "metadata": {},
   "outputs": [],
   "source": [
    "climatology = xr.DataArray(full_climatology, coords = mur_subset.coords, dims = mur_subset.dims)\n",
    "threshold = xr.DataArray(full_threshold, coords = mur_subset.coords, dims = mur_subset.dims)\n"
   ]
  },
  {
   "cell_type": "code",
   "execution_count": null,
   "metadata": {},
   "outputs": [],
   "source": [
    "climatology"
   ]
  },
  {
   "cell_type": "code",
   "execution_count": null,
   "metadata": {},
   "outputs": [],
   "source": [
    "climatology.isel(time=0).plot()"
   ]
  },
  {
   "cell_type": "code",
   "execution_count": null,
   "metadata": {},
   "outputs": [],
   "source": [
    "# Anomaly\n",
    "(mur_subset - threshold).isel(time=0).plot()"
   ]
  },
  {
   "cell_type": "markdown",
   "metadata": {},
   "source": [
    "# Extraneous other notes"
   ]
  },
  {
   "cell_type": "markdown",
   "metadata": {},
   "source": [
    "### What is 'seas' returning?\n",
    "\n",
    "Looks like the same array (1 year of data) repeated multiple times over to match the size of the time array of the input."
   ]
  },
  {
   "cell_type": "code",
   "execution_count": null,
   "metadata": {},
   "outputs": [],
   "source": [
    "import matplotlib.pyplot as plt"
   ]
  },
  {
   "cell_type": "code",
   "execution_count": null,
   "metadata": {},
   "outputs": [],
   "source": [
    "plt.plot(time_ordinal, point_clim['seas'])"
   ]
  },
  {
   "cell_type": "markdown",
   "metadata": {},
   "source": [
    "## Some loose timing\n",
    "A) `mur.sel(lat=slice(32, 32.4), lon=slice(123.0, 123.2))`\n",
    "* `.values` extract ~20 seconds\n",
    "* loop took ~90 seconds\n",
    "\n",
    "B) `mur.sel(lat=slice(32, 33), lon=slice(123.0, 124))` (33,187,893 pixels (`.size`))\n",
    "* `.values` extract ~4 seconds ??? (shorter than previous?)\n",
    "* loop took ~9.5 minutes (accidently did this on with Dask on, but I don't think that makes a difference)\n",
    "\n",
    "C) `mur.sel(lat=slice(32, 33), lon=slice(123.0, 124))` (65,725,043 pixels (`.size`))\n",
    "* `.values` extract ~4 seconds\n",
    "* loop took ~19 minutes\n",
    "* Notes: memory seems to stay at 0.2%; CPU does max out (100% of a worker)\n",
    "\n",
    "D) Estimate for 3.5*2.25 degrees:\n",
    "`mur.sel(lat=slice(32, 35.5), lon=slice(123.0, 125.25))` (511,097,418 (`.size`))\n",
    "* `.values` extract 32 seconds (it did fit into memory :tada:)\n",
    "* estimate for loop: 8 times longer than C -- 160 minutes"
   ]
  },
  {
   "cell_type": "code",
   "execution_count": null,
   "metadata": {},
   "outputs": [],
   "source": []
  }
 ],
 "metadata": {
  "interpreter": {
   "hash": "688d131e37ce398ce55bdd57b745b13d7e8dd8942b3b8aa54a6aa78a9e394a63"
  },
  "kernelspec": {
   "display_name": "Python 3.8.12 64-bit ('mhw': conda)",
   "language": "python",
   "name": "python3"
  },
  "language_info": {
   "codemirror_mode": {
    "name": "ipython",
    "version": 3
   },
   "file_extension": ".py",
   "mimetype": "text/x-python",
   "name": "python",
   "nbconvert_exporter": "python",
   "pygments_lexer": "ipython3",
   "version": "3.10.4"
  },
  "orig_nbformat": 4
 },
 "nbformat": 4,
 "nbformat_minor": 2
}
